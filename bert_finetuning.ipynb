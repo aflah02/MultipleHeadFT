{
 "cells": [
  {
   "cell_type": "code",
   "execution_count": 35,
   "metadata": {},
   "outputs": [],
   "source": [
    "import torch\n",
    "import torch.nn as nn\n",
    "from torch.utils.data import TensorDataset, DataLoader, RandomSampler, SequentialSampler, random_split\n",
    "from sklearn.model_selection import train_test_split\n",
    "from sklearn.metrics import classification_report\n",
    "import copy\n",
    "import transformers\n",
    "import numpy as np\n",
    "import random\n",
    "from transformers import AdamW, BertTokenizer, get_linear_schedule_with_warmup\n",
    "from datasets import load_dataset\n",
    "from model import SentimentClassifierWithMultipleHeads"
   ]
  },
  {
   "cell_type": "code",
   "execution_count": 36,
   "metadata": {},
   "outputs": [],
   "source": [
    "dataset = load_dataset(\"sst2\")"
   ]
  },
  {
   "cell_type": "code",
   "execution_count": 37,
   "metadata": {},
   "outputs": [],
   "source": [
    "df_train = dataset['train'].to_pandas()\n",
    "df_val = dataset['validation'].to_pandas()\n",
    "df_test = dataset['test'].to_pandas()"
   ]
  },
  {
   "cell_type": "code",
   "execution_count": 53,
   "metadata": {},
   "outputs": [],
   "source": [
    "train_messages = df_train['sentence'].to_list()\n",
    "train_labels = df_train['label'].to_list()\n",
    "val_messages = df_val['sentence'].to_list()\n",
    "val_labels = df_val['label'].to_list()\n",
    "test_messages = df_test['sentence'].to_list()\n",
    "test_labels = df_test['label'].to_list()"
   ]
  },
  {
   "cell_type": "code",
   "execution_count": 39,
   "metadata": {},
   "outputs": [],
   "source": [
    "tokenizer = BertTokenizer.from_pretrained('bert-base-uncased', do_lower_case=True)"
   ]
  },
  {
   "cell_type": "code",
   "execution_count": 40,
   "metadata": {},
   "outputs": [
    {
     "name": "stdout",
     "output_type": "stream",
     "text": [
      " Original:  hide new secretions from the parental units \n",
      "Tokenized:  ['hide', 'new', 'secret', '##ions', 'from', 'the', 'parental', 'units']\n",
      "Token IDs:  [5342, 2047, 3595, 8496, 2013, 1996, 18643, 3197]\n"
     ]
    }
   ],
   "source": [
    "print(' Original: ', train_messages[0])\n",
    "\n",
    "# Print the sentence split into tokens.\n",
    "print('Tokenized: ', tokenizer.tokenize(train_messages[0]))\n",
    "\n",
    "# Print the sentence mapped to token ids.\n",
    "print('Token IDs: ', tokenizer.convert_tokens_to_ids(tokenizer.tokenize(train_messages[0])))"
   ]
  },
  {
   "cell_type": "code",
   "execution_count": 41,
   "metadata": {},
   "outputs": [
    {
     "name": "stdout",
     "output_type": "stream",
     "text": [
      "Max sentence length:  66\n"
     ]
    }
   ],
   "source": [
    "max_len = 0\n",
    "all_messages = copy.deepcopy(train_messages)\n",
    "for sent in val_messages:\n",
    "    all_messages.append(sent)\n",
    "for sent in test_messages:\n",
    "    all_messages.append(sent)\n",
    "# For every sentence...\n",
    "for sent in all_messages:\n",
    "\n",
    "    # Tokenize the text and add `[CLS]` and `[SEP]` tokens.\n",
    "    input_ids = tokenizer.encode(sent, add_special_tokens=True)\n",
    "\n",
    "    # Update the maximum sentence length.\n",
    "    max_len = max(max_len, len(input_ids))\n",
    "\n",
    "print('Max sentence length: ', max_len)"
   ]
  },
  {
   "cell_type": "code",
   "execution_count": 42,
   "metadata": {},
   "outputs": [],
   "source": [
    "def tokenize_sentences(sentences, tokenizer, max_len):\n",
    "    input_ids = []\n",
    "    attention_masks = []\n",
    "\n",
    "    for sent in sentences:\n",
    "        encoded_dict = tokenizer.encode_plus(\n",
    "                            sent,                      # Sentence to encode.\n",
    "                            add_special_tokens = True, # Add '[CLS]' and '[SEP]'\n",
    "                            max_length = max_len,           # Pad & truncate all sentences.\n",
    "                            pad_to_max_length = True,\n",
    "                            return_attention_mask = True,   # Construct attn. masks.\n",
    "                            return_tensors = 'pt',     # Return pytorch tensors.\n",
    "                       )\n",
    "\n",
    "        input_ids.append(encoded_dict['input_ids'])\n",
    "\n",
    "        attention_masks.append(encoded_dict['attention_mask'])\n",
    "\n",
    "    input_ids = torch.cat(input_ids, dim=0)\n",
    "    attention_masks = torch.cat(attention_masks, dim=0)\n",
    "\n",
    "    return input_ids, attention_masks"
   ]
  },
  {
   "cell_type": "code",
   "execution_count": 43,
   "metadata": {},
   "outputs": [
    {
     "name": "stderr",
     "output_type": "stream",
     "text": [
      "Truncation was not explicitly activated but `max_length` is provided a specific value, please use `truncation=True` to explicitly truncate examples to max length. Defaulting to 'longest_first' truncation strategy. If you encode pairs of sequences (GLUE-style) with the tokenizer you can select this strategy more precisely by providing a specific strategy to `truncation`.\n",
      "d:\\Python\\Lib\\site-packages\\transformers\\tokenization_utils_base.py:2418: FutureWarning: The `pad_to_max_length` argument is deprecated and will be removed in a future version, use `padding=True` or `padding='longest'` to pad to the longest sequence in the batch, or use `padding='max_length'` to pad to a max length. In this case, you can give a specific length with `max_length` (e.g. `max_length=45`) or leave max_length to None to pad to the maximal input size of the model (e.g. 512 for Bert).\n",
      "  warnings.warn(\n"
     ]
    }
   ],
   "source": [
    "train_inputs, train_masks = tokenize_sentences(train_messages, tokenizer, max_len)\n",
    "val_inputs, val_masks = tokenize_sentences(val_messages, tokenizer, max_len)\n",
    "test_inputs, test_masks = tokenize_sentences(test_messages, tokenizer, max_len)\n",
    "\n",
    "train_labels = torch.tensor(train_labels)\n",
    "val_labels = torch.tensor(val_labels)\n",
    "test_labels = torch.tensor(test_labels)"
   ]
  },
  {
   "cell_type": "code",
   "execution_count": 44,
   "metadata": {},
   "outputs": [
    {
     "name": "stdout",
     "output_type": "stream",
     "text": [
      "Train Messages:  67349\n",
      "Train Inputs:  torch.Size([67349, 66])\n",
      "Train Masks:  torch.Size([67349, 66])\n",
      "Train Labels:  torch.Size([67349])\n",
      "Validation Messages:  872\n",
      "Validation Inputs:  torch.Size([872, 66])\n",
      "Validation Masks:  torch.Size([872, 66])\n",
      "Validation Labels:  torch.Size([872])\n",
      "Test Messages:  1821\n",
      "Test Inputs:  torch.Size([1821, 66])\n",
      "Test Masks:  torch.Size([1821, 66])\n",
      "Test Labels:  torch.Size([1821])\n"
     ]
    }
   ],
   "source": [
    "# print all shapes\n",
    "print(\"Train Messages: \", len(train_messages))\n",
    "print(\"Train Inputs: \", train_inputs.shape)\n",
    "print(\"Train Masks: \", train_masks.shape)\n",
    "print(\"Train Labels: \", train_labels.shape)\n",
    "print(\"Validation Messages: \", len(val_messages))\n",
    "print(\"Validation Inputs: \", val_inputs.shape)\n",
    "print(\"Validation Masks: \", val_masks.shape)\n",
    "print(\"Validation Labels: \", val_labels.shape)\n",
    "print(\"Test Messages: \", len(test_messages))\n",
    "print(\"Test Inputs: \", test_inputs.shape)\n",
    "print(\"Test Masks: \", test_masks.shape)\n",
    "print(\"Test Labels: \", test_labels.shape)"
   ]
  },
  {
   "cell_type": "code",
   "execution_count": 45,
   "metadata": {},
   "outputs": [],
   "source": [
    "train_dataset = TensorDataset(train_inputs, train_masks, train_labels)\n",
    "val_dataset = TensorDataset(val_inputs, val_masks, val_labels)\n",
    "test_dataset = TensorDataset(test_inputs, test_masks, test_labels)"
   ]
  },
  {
   "cell_type": "code",
   "execution_count": 47,
   "metadata": {},
   "outputs": [],
   "source": [
    "batch_size = 32\n",
    "\n",
    "train_dataloader = DataLoader(\n",
    "            train_dataset,  # The training samples.\n",
    "            sampler = RandomSampler(train_dataset), # Select batches randomly\n",
    "            batch_size = batch_size # Trains with this batch size.\n",
    "        )\n",
    "\n",
    "validation_dataloader = DataLoader(\n",
    "            val_dataset, # The validation samples.\n",
    "            sampler = SequentialSampler(val_dataset), # Pull out batches sequentially.\n",
    "            batch_size = batch_size # Evaluate with this batch size.\n",
    "        )\n",
    "\n",
    "test_dataloader = DataLoader(\n",
    "            test_dataset, # The validation samples.\n",
    "            sampler = SequentialSampler(test_dataset), # Pull out batches sequentially.\n",
    "            batch_size = batch_size # Evaluate with this batch size.\n",
    "        )"
   ]
  },
  {
   "cell_type": "code",
   "execution_count": null,
   "metadata": {},
   "outputs": [],
   "source": [
    "device = torch.device('cuda' if torch.cuda.is_available() else 'cpu')"
   ]
  },
  {
   "cell_type": "code",
   "execution_count": 50,
   "metadata": {},
   "outputs": [],
   "source": [
    "model = SentimentClassifierWithMultipleHeads('bert-base-uncased', 2)\n",
    "model = model.to(device)"
   ]
  },
  {
   "cell_type": "code",
   "execution_count": 51,
   "metadata": {},
   "outputs": [
    {
     "name": "stderr",
     "output_type": "stream",
     "text": [
      "d:\\Python\\Lib\\site-packages\\transformers\\optimization.py:411: FutureWarning: This implementation of AdamW is deprecated and will be removed in a future version. Use the PyTorch implementation torch.optim.AdamW instead, or set `no_deprecation_warning=True` to disable this warning\n",
      "  warnings.warn(\n"
     ]
    }
   ],
   "source": [
    "optimizer = AdamW(model.parameters())"
   ]
  },
  {
   "cell_type": "code",
   "execution_count": null,
   "metadata": {},
   "outputs": [],
   "source": [
    "epochs = 4\n",
    "\n",
    "total_steps = len(train_dataloader) * epochs\n",
    "\n",
    "scheduler = get_linear_schedule_with_warmup(optimizer, num_warmup_steps=0, num_training_steps=total_steps)\n",
    "\n",
    "def flat_accuracy(preds, labels):\n",
    "    pred_flat = np.argmax(preds, axis=1).flatten()\n",
    "    labels_flat = labels.flatten()\n",
    "    return np.sum(pred_flat == labels_flat) / len(labels_flat)"
   ]
  },
  {
   "cell_type": "code",
   "execution_count": 55,
   "metadata": {},
   "outputs": [],
   "source": [
    "def compute_aggregate_and_classwise_metrics(predicted_labels, true_labels):\n",
    "    classification_metrics = classification_report(true_labels, predicted_labels, output_dict=True)\n",
    "    return classification_metrics"
   ]
  },
  {
   "cell_type": "code",
   "execution_count": null,
   "metadata": {},
   "outputs": [],
   "source": [
    "seed_val = 42\n",
    "random.seed(seed_val)\n",
    "np.random.seed(seed_val)\n",
    "torch.manual_seed(seed_val)\n",
    "torch.cuda.manual_seed_all(seed_val)\n",
    "training_stats = []\n",
    "\n",
    "for epoch_i in range(0, epochs):\n",
    "    total_train_loss = 0\n",
    "    model.train()\n",
    "    for step, batch in enumerate(train_dataloader):\n",
    "        b_input_ids = batch[0].to(device)\n",
    "        b_input_mask = batch[1].to(device)\n",
    "        b_labels = batch[2].to(device)\n",
    "        optimizer.zero_grad()\n",
    "        outputs = model(b_input_ids, b_input_mask)\n",
    "        loss = outputs[0]\n",
    "        total_train_loss += loss.item()\n",
    "        loss.backward()\n",
    "        # torch.nn.utils.clip_grad_norm_(model.parameters(), 1.0)\n",
    "        optimizer.step()\n",
    "        scheduler.step()\n",
    "    avg_train_loss = total_train_loss / len(train_dataloader)\n",
    "    print(\"Average train loss: {}\".format(avg_train_loss))\n",
    "\n",
    "    model.eval()\n",
    "    eval_preds, eval_labels = [], []\n",
    "    total_eval_loss = 0\n",
    "    nb_eval_steps = 0\n",
    "    for batch in validation_dataloader:\n",
    "        b_input_ids = batch[0].to(device)\n",
    "        b_input_mask = batch[1].to(device)\n",
    "        b_labels = batch[2].to(device)\n",
    "        with torch.no_grad():\n",
    "            outputs = model(b_input_ids, b_input_mask)\n",
    "        loss = outputs[0]\n",
    "        logits = outputs[1]\n",
    "        total_eval_loss += loss.item()\n",
    "        logits = logits.detach().cpu().numpy()\n",
    "        label_ids = b_labels.to('cpu').numpy()\n",
    "        predictions = np.argmax(logits, axis=1).flatten()\n",
    "        eval_preds.extend(predictions)\n",
    "        eval_labels.extend(label_ids)\n",
    "    val_metrics = compute_aggregate_and_classwise_metrics(eval_preds, eval_labels)\n",
    "    avg_val_loss = total_eval_loss / len(validation_dataloader)\n",
    "    print(\"Validation Loss: {}\".format(avg_val_loss))\n",
    "\n",
    "    model.eval()\n",
    "    test_preds, test_labels = [], []\n",
    "    total_test_loss = 0\n",
    "    nb_test_steps = 0\n",
    "    for batch in test_dataloader:\n",
    "        b_input_ids = batch[0].to(device)\n",
    "        b_input_mask = batch[1].to(device)\n",
    "        b_labels = batch[2].to(device)\n",
    "        with torch.no_grad():\n",
    "            outputs = model(b_input_ids, b_input_mask)\n",
    "        loss = outputs[0]\n",
    "        logits = outputs[1]\n",
    "        total_test_loss += loss.item()\n",
    "        logits = logits.detach().cpu().numpy()\n",
    "        label_ids = b_labels.to('cpu').numpy()\n",
    "        predictions = np.argmax(logits, axis=1).flatten()\n",
    "        test_preds.extend(predictions)\n",
    "        test_labels.extend(label_ids)\n",
    "    test_metrics = compute_aggregate_and_classwise_metrics(test_preds, test_labels)\n",
    "    avg_test_loss = total_test_loss / len(test_dataloader)\n",
    "    print(\"Test Loss: {}\".format(avg_test_loss))\n",
    "    training_stats.append({'epoch': epoch_i + 1, 'Training Loss': avg_train_loss, 'Test Loss': avg_test_loss, 'Test Metrics': test_metrics})\n",
    "\n",
    "print(\"Training complete!\")\n",
    "    "
   ]
  },
  {
   "cell_type": "code",
   "execution_count": null,
   "metadata": {},
   "outputs": [],
   "source": [
    "# Test set accuracy\n",
    "model.eval()\n",
    "total_test_accuracy = 0\n",
    "total_test_loss = 0\n",
    "nb_test_steps = 0\n",
    "\n",
    "for batch in test_dataloader:\n",
    "    b_input_ids = batch[0].to(device)\n",
    "    b_input_mask = batch[1].to(device)\n",
    "    b_labels = batch[2].to(device)\n",
    "    with torch.no_grad():\n",
    "        outputs = model(b_input_ids, b_input_mask)\n",
    "    loss = outputs[0]\n",
    "    logits = outputs[1]\n",
    "    total_test_loss += loss.item()\n",
    "    logits = logits.detach().cpu().numpy()\n",
    "    label_ids = b_labels.to('cpu').numpy()\n",
    "    total_test_accuracy += flat_accuracy(logits, label_ids)\n",
    "\n",
    "avg_test_accuracy = total_test_accuracy / len(test_dataloader)\n",
    "print(\"Accuracy: {}\".format(avg_test_accuracy))\n",
    "avg_test_loss = total_test_loss / len(test_dataloader)\n",
    "print(\"Test Loss: {}\".format(avg_test_loss))\n"
   ]
  },
  {
   "cell_type": "code",
   "execution_count": null,
   "metadata": {},
   "outputs": [],
   "source": [
    "# print training stats\n",
    "print(\"Training stats:\")\n",
    "for stat in training_stats:\n",
    "    print(stat)"
   ]
  }
 ],
 "metadata": {
  "kernelspec": {
   "display_name": "Python 3",
   "language": "python",
   "name": "python3"
  },
  "language_info": {
   "codemirror_mode": {
    "name": "ipython",
    "version": 3
   },
   "file_extension": ".py",
   "mimetype": "text/x-python",
   "name": "python",
   "nbconvert_exporter": "python",
   "pygments_lexer": "ipython3",
   "version": "3.11.4"
  },
  "orig_nbformat": 4
 },
 "nbformat": 4,
 "nbformat_minor": 2
}
